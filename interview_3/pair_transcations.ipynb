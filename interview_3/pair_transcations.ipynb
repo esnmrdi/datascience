{
 "metadata": {
  "language_info": {
   "codemirror_mode": {
    "name": "ipython",
    "version": 3
   },
   "file_extension": ".py",
   "mimetype": "text/x-python",
   "name": "python",
   "nbconvert_exporter": "python",
   "pygments_lexer": "ipython3",
   "version": "3.8.8-final"
  },
  "orig_nbformat": 2,
  "kernelspec": {
   "name": "python3",
   "display_name": "Python 3.8.8 64-bit ('base': conda)",
   "metadata": {
    "interpreter": {
     "hash": "b0acd0db7f4383766e8b4b1e0229b457034d231b9a956db1857be6d912018907"
    }
   }
  }
 },
 "nbformat": 4,
 "nbformat_minor": 2,
 "cells": [
  {
   "cell_type": "code",
   "execution_count": 29,
   "metadata": {},
   "outputs": [],
   "source": [
    "import pandas as pd\n",
    "import numpy as np\n",
    "from datetime import datetime\n",
    "from tqdm import tqdm\n",
    "import seaborn as sns"
   ]
  },
  {
   "cell_type": "code",
   "execution_count": 2,
   "metadata": {},
   "outputs": [],
   "source": [
    "df = pd.read_csv('test_data.csv')"
   ]
  },
  {
   "cell_type": "code",
   "execution_count": 3,
   "metadata": {},
   "outputs": [
    {
     "output_type": "stream",
     "name": "stdout",
     "text": [
      "<class 'pandas.core.frame.DataFrame'>\nRangeIndex: 100000 entries, 0 to 99999\nData columns (total 5 columns):\n #   Column            Non-Null Count   Dtype  \n---  ------            --------------   -----  \n 0   transaction_date  100000 non-null  object \n 1   property_id       100000 non-null  int64  \n 2   property_type     100000 non-null  object \n 3   region            100000 non-null  object \n 4   price             100000 non-null  float64\ndtypes: float64(1), int64(1), object(3)\nmemory usage: 3.8+ MB\n"
     ]
    }
   ],
   "source": [
    "df.info()"
   ]
  },
  {
   "cell_type": "code",
   "execution_count": 4,
   "metadata": {},
   "outputs": [],
   "source": [
    "df['transaction_date'] =  pd.to_datetime(df['transaction_date'], format='%Y-%m-%d')"
   ]
  },
  {
   "cell_type": "code",
   "execution_count": 5,
   "metadata": {},
   "outputs": [
    {
     "output_type": "execute_result",
     "data": {
      "text/plain": [
       "  transaction_date  property_id           property_type            region  \\\n",
       "0       2020-01-01       512624                   Condo   Metro Vancouver   \n",
       "1       2020-01-01       499817                   Condo           Nanaimo   \n",
       "2       2020-01-01       388958               Townhouse  Central Okanagan   \n",
       "3       2020-01-01       708544               Townhorse           Nanaimo   \n",
       "4       2020-01-01       227012  Single Family Dwelling   Metro Vancouver   \n",
       "\n",
       "        price  \n",
       "0   812353.75  \n",
       "1   261333.66  \n",
       "2   744377.10  \n",
       "3   555737.79  \n",
       "4  1186354.04  "
      ],
      "text/html": "<div>\n<style scoped>\n    .dataframe tbody tr th:only-of-type {\n        vertical-align: middle;\n    }\n\n    .dataframe tbody tr th {\n        vertical-align: top;\n    }\n\n    .dataframe thead th {\n        text-align: right;\n    }\n</style>\n<table border=\"1\" class=\"dataframe\">\n  <thead>\n    <tr style=\"text-align: right;\">\n      <th></th>\n      <th>transaction_date</th>\n      <th>property_id</th>\n      <th>property_type</th>\n      <th>region</th>\n      <th>price</th>\n    </tr>\n  </thead>\n  <tbody>\n    <tr>\n      <th>0</th>\n      <td>2020-01-01</td>\n      <td>512624</td>\n      <td>Condo</td>\n      <td>Metro Vancouver</td>\n      <td>812353.75</td>\n    </tr>\n    <tr>\n      <th>1</th>\n      <td>2020-01-01</td>\n      <td>499817</td>\n      <td>Condo</td>\n      <td>Nanaimo</td>\n      <td>261333.66</td>\n    </tr>\n    <tr>\n      <th>2</th>\n      <td>2020-01-01</td>\n      <td>388958</td>\n      <td>Townhouse</td>\n      <td>Central Okanagan</td>\n      <td>744377.10</td>\n    </tr>\n    <tr>\n      <th>3</th>\n      <td>2020-01-01</td>\n      <td>708544</td>\n      <td>Townhorse</td>\n      <td>Nanaimo</td>\n      <td>555737.79</td>\n    </tr>\n    <tr>\n      <th>4</th>\n      <td>2020-01-01</td>\n      <td>227012</td>\n      <td>Single Family Dwelling</td>\n      <td>Metro Vancouver</td>\n      <td>1186354.04</td>\n    </tr>\n  </tbody>\n</table>\n</div>"
     },
     "metadata": {},
     "execution_count": 5
    }
   ],
   "source": [
    "df.head()"
   ]
  },
  {
   "cell_type": "code",
   "execution_count": 6,
   "metadata": {},
   "outputs": [],
   "source": [
    "dfs = df.groupby(['property_id']).size().reset_index(name='cnt')"
   ]
  },
  {
   "cell_type": "code",
   "execution_count": 7,
   "metadata": {},
   "outputs": [],
   "source": [
    "dfs = dfs[dfs['cnt'] > 1]"
   ]
  },
  {
   "cell_type": "code",
   "execution_count": 8,
   "metadata": {},
   "outputs": [
    {
     "output_type": "execute_result",
     "data": {
      "text/plain": [
       "     property_id  cnt\n",
       "0         100063    2\n",
       "1         100113    2\n",
       "2         100260    5\n",
       "3         100266    3\n",
       "4         100306    2\n",
       "..           ...  ...\n",
       "195       107735    2\n",
       "196       107965    2\n",
       "197       108019    2\n",
       "198       108022    4\n",
       "199       108062    2\n",
       "\n",
       "[200 rows x 2 columns]"
      ],
      "text/html": "<div>\n<style scoped>\n    .dataframe tbody tr th:only-of-type {\n        vertical-align: middle;\n    }\n\n    .dataframe tbody tr th {\n        vertical-align: top;\n    }\n\n    .dataframe thead th {\n        text-align: right;\n    }\n</style>\n<table border=\"1\" class=\"dataframe\">\n  <thead>\n    <tr style=\"text-align: right;\">\n      <th></th>\n      <th>property_id</th>\n      <th>cnt</th>\n    </tr>\n  </thead>\n  <tbody>\n    <tr>\n      <th>0</th>\n      <td>100063</td>\n      <td>2</td>\n    </tr>\n    <tr>\n      <th>1</th>\n      <td>100113</td>\n      <td>2</td>\n    </tr>\n    <tr>\n      <th>2</th>\n      <td>100260</td>\n      <td>5</td>\n    </tr>\n    <tr>\n      <th>3</th>\n      <td>100266</td>\n      <td>3</td>\n    </tr>\n    <tr>\n      <th>4</th>\n      <td>100306</td>\n      <td>2</td>\n    </tr>\n    <tr>\n      <th>...</th>\n      <td>...</td>\n      <td>...</td>\n    </tr>\n    <tr>\n      <th>195</th>\n      <td>107735</td>\n      <td>2</td>\n    </tr>\n    <tr>\n      <th>196</th>\n      <td>107965</td>\n      <td>2</td>\n    </tr>\n    <tr>\n      <th>197</th>\n      <td>108019</td>\n      <td>2</td>\n    </tr>\n    <tr>\n      <th>198</th>\n      <td>108022</td>\n      <td>4</td>\n    </tr>\n    <tr>\n      <th>199</th>\n      <td>108062</td>\n      <td>2</td>\n    </tr>\n  </tbody>\n</table>\n<p>200 rows × 2 columns</p>\n</div>"
     },
     "metadata": {},
     "execution_count": 8
    }
   ],
   "source": [
    "dfs.reset_index(inplace=True, drop=True)\n",
    "dfs[:200]"
   ]
  },
  {
   "cell_type": "code",
   "execution_count": 22,
   "metadata": {},
   "outputs": [
    {
     "output_type": "stream",
     "name": "stderr",
     "text": [
      "100%|██████████| 8325/8325 [00:23<00:00, 359.34it/s]\n"
     ]
    }
   ],
   "source": [
    "# result_template = dict(transaction_date=[], property_id=[], property_type=[], region=[], price=[])\n",
    "cols = ['property_id', 'property_type', 'region', 'transction_date_1', 'price_1', 'transaction_date_2', 'price_2', 'date_diff']\n",
    "pairs_30 = pd.DataFrame(columns=cols)\n",
    "pairs_90 = pairs_30.copy()\n",
    "pairs_180 = pairs_30.copy()\n",
    "for index, row in tqdm(dfs.iterrows(), total=dfs.shape[0]):\n",
    "    pid = row['property_id']\n",
    "    subset = df[df['property_id'] == pid]\n",
    "    subset.reset_index(inplace=True, drop=True)\n",
    "    for i, r in subset.iterrows():\n",
    "        for j in range(i + 1, len(subset)):\n",
    "            date_diff = subset.iloc[j, 0] - r['transaction_date']\n",
    "            date_diff = date_diff.days\n",
    "            lst = [r['property_id'], r['property_type'], r['region'], r['transaction_date'], r['price'], subset.iloc[j, 0], subset.iloc[j, 4], date_diff]\n",
    "            log_row = pd.Series(lst, index=cols)\n",
    "            if (date_diff <= 30):\n",
    "                pairs_30 = pairs_30.append(log_row, ignore_index=True)\n",
    "            if (date_diff <= 90):\n",
    "                pairs_90 = pairs_90.append(log_row, ignore_index=True)\n",
    "            if (date_diff <= 180):\n",
    "                pairs_180 = pairs_180.append(log_row, ignore_index=True)"
   ]
  },
  {
   "cell_type": "code",
   "execution_count": 26,
   "metadata": {},
   "outputs": [],
   "source": [
    "pairs_30.to_csv('pairs_30.csv')\n",
    "pairs_90.to_csv('pairs_90.csv')\n",
    "pairs_180.to_csv('pairs_180.csv')"
   ]
  },
  {
   "cell_type": "code",
   "execution_count": 74,
   "metadata": {},
   "outputs": [],
   "source": [
    "# dfs = df[df.groupby(['property_id'])['region'].transform('size') > 1]"
   ]
  },
  {
   "cell_type": "code",
   "execution_count": 49,
   "metadata": {},
   "outputs": [],
   "source": [
    "# df1 = df[df['property_id'].duplicated(keep=False) == True]"
   ]
  },
  {
   "cell_type": "code",
   "execution_count": 27,
   "metadata": {},
   "outputs": [
    {
     "output_type": "execute_result",
     "data": {
      "text/plain": [
       "          price_1   price_2\n",
       "price_1  1.000000  0.999645\n",
       "price_2  0.999645  1.000000"
      ],
      "text/html": "<div>\n<style scoped>\n    .dataframe tbody tr th:only-of-type {\n        vertical-align: middle;\n    }\n\n    .dataframe tbody tr th {\n        vertical-align: top;\n    }\n\n    .dataframe thead th {\n        text-align: right;\n    }\n</style>\n<table border=\"1\" class=\"dataframe\">\n  <thead>\n    <tr style=\"text-align: right;\">\n      <th></th>\n      <th>price_1</th>\n      <th>price_2</th>\n    </tr>\n  </thead>\n  <tbody>\n    <tr>\n      <th>price_1</th>\n      <td>1.000000</td>\n      <td>0.999645</td>\n    </tr>\n    <tr>\n      <th>price_2</th>\n      <td>0.999645</td>\n      <td>1.000000</td>\n    </tr>\n  </tbody>\n</table>\n</div>"
     },
     "metadata": {},
     "execution_count": 27
    }
   ],
   "source": [
    "pairs_180.corr(method='pearson')"
   ]
  },
  {
   "cell_type": "code",
   "execution_count": null,
   "metadata": {},
   "outputs": [],
   "source": []
  }
 ]
}