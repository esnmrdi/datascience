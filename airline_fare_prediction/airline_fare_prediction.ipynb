{
 "cells": [
  {
   "cell_type": "code",
   "execution_count": null,
   "metadata": {},
   "outputs": [],
   "source": [
    "import numpy as np\n",
    "import pandas as pd\n",
    "import seaborn as sns\n",
    "from scipy.stats import chisquare\n",
    "from sklearn import linear_model\n",
    "from sklearn.svm import SVR\n",
    "from sklearn.neural_network import MLPRegressor\n",
    "from sklearn.model_selection import train_test_split, KFold, cross_val_score\n",
    "from sklearn.preprocessing import StandardScaler, MinMaxScaler\n",
    "from sklearn.metrics import r2_score, mean_squared_error"
   ]
  },
  {
   "cell_type": "code",
   "execution_count": null,
   "metadata": {},
   "outputs": [],
   "source": [
    "df = pd.read_csv('boscun-longitudinal.csv.gz')\n",
    "dfs = df.sample(frac=0.005, random_state=1)"
   ]
  },
  {
   "cell_type": "code",
   "execution_count": null,
   "metadata": {},
   "outputs": [],
   "source": [
    "dfs.dtypes"
   ]
  },
  {
   "cell_type": "code",
   "execution_count": null,
   "metadata": {},
   "outputs": [],
   "source": [
    "dfs['received_dt'] = pd.to_datetime(dfs['received_ms'], unit='ms')\n",
    "dfs['departure_dt'] = pd.to_datetime(dfs['departure_ms'], unit='ms')\n",
    "dfs['return_dt'] = pd.to_datetime(dfs['return_ms'], unit='ms')"
   ]
  },
  {
   "cell_type": "code",
   "execution_count": null,
   "metadata": {},
   "outputs": [],
   "source": [
    "def convert_date(label):\n",
    "    dfs[f'{label}_day'] = dfs[f'{label}_dt'].dt.dayofweek\n",
    "    dfs[f'{label}_day_name'] = dfs[f'{label}_dt'].dt.day_name()\n",
    "    dfs[f'{label}_month'] = dfs[f'{label}_dt'].dt.month\n",
    "    dfs[f'{label}_month_name'] = dfs[f'{label}_dt'].dt.month_name()\n",
    "    dfs[f'{label}_season'] = (dfs[f'{label}_month'] % 12 + 3) // 3\n",
    "    seasons = {1: 'Winter', 2: 'Spring', 3: 'Summer', 4: 'Autumn'}\n",
    "    dfs[f'{label}_season_name'] = dfs[f'{label}_season'].map(seasons)\n",
    "    dfs[f'{label}_time_window'] = (dfs[f'{label}_dt'].dt.hour % 24 + 4) // 4\n",
    "    day_parts = {1: 'Late Night', 2: 'Early Morning', 3: 'Morning', 4: 'Noon', 5: 'Evening', 6: 'Night'}\n",
    "    dfs[f'{label}_time_window_name'] = dfs[f'{label}_time_window'].map(day_parts)\n",
    "    dfs[f'{label}_is_weekend'] = dfs[f'{label}_dt'].dt.dayofweek.isin([5, 6])\n",
    "    return None"
   ]
  },
  {
   "cell_type": "code",
   "execution_count": null,
   "metadata": {},
   "outputs": [],
   "source": [
    "convert_date('departure')\n",
    "convert_date('return')\n",
    "convert_date('received')"
   ]
  },
  {
   "cell_type": "code",
   "execution_count": null,
   "metadata": {},
   "outputs": [],
   "source": [
    "sns.histplot(dfs, x='total_usd', bins=50, kde=True)"
   ]
  },
  {
   "cell_type": "code",
   "execution_count": null,
   "metadata": {},
   "outputs": [],
   "source": [
    "sns.histplot(dfs, x='advance', bins=50, kde=True)"
   ]
  },
  {
   "cell_type": "code",
   "execution_count": null,
   "metadata": {},
   "outputs": [],
   "source": [
    "dfs['total_usd'].describe()"
   ]
  },
  {
   "cell_type": "code",
   "execution_count": null,
   "metadata": {},
   "outputs": [],
   "source": [
    "dfs['total_usd'].describe(percentiles=[.99])"
   ]
  },
  {
   "cell_type": "code",
   "execution_count": null,
   "metadata": {},
   "outputs": [],
   "source": [
    "dfs['outgoing_duration'].describe()"
   ]
  },
  {
   "cell_type": "code",
   "execution_count": null,
   "metadata": {},
   "outputs": [],
   "source": [
    "dfs[['total_usd', 'returning_duration']].corr()"
   ]
  },
  {
   "cell_type": "code",
   "execution_count": null,
   "metadata": {},
   "outputs": [],
   "source": [
    "sns.scatterplot(data=dfs, x=\"advance\", y=\"total_usd\", hue=\"return_day_name\", style=\"return_day_name\")"
   ]
  },
  {
   "cell_type": "code",
   "execution_count": null,
   "metadata": {},
   "outputs": [],
   "source": [
    "sns.scatterplot(data=dfs, x=\"advance\", y=\"total_usd\", hue=\"return_month_name\", style=\"return_month_name\")"
   ]
  },
  {
   "cell_type": "code",
   "execution_count": null,
   "metadata": {},
   "outputs": [],
   "source": [
    "sns.scatterplot(data=dfs, x=\"advance\", y=\"total_usd\", hue=\"return_season_name\", style=\"return_season_name\")"
   ]
  },
  {
   "cell_type": "code",
   "execution_count": null,
   "metadata": {},
   "outputs": [],
   "source": [
    "sns.scatterplot(data=dfs, x=\"advance\", y=\"total_usd\", hue=\"return_is_weekend\", style=\"return_is_weekend\")"
   ]
  },
  {
   "cell_type": "code",
   "execution_count": null,
   "metadata": {},
   "outputs": [],
   "source": [
    "sns.scatterplot(data=dfs, x=\"advance\", y=\"total_usd\", hue=\"return_time_window_name\", style=\"return_time_window_name\")"
   ]
  },
  {
   "cell_type": "code",
   "execution_count": null,
   "metadata": {},
   "outputs": [],
   "source": [
    "chisquare(dfs['return_season'], dfs['return_month'])"
   ]
  },
  {
   "cell_type": "code",
   "execution_count": null,
   "metadata": {},
   "outputs": [],
   "source": [
    "len(dfs)"
   ]
  },
  {
   "cell_type": "code",
   "execution_count": null,
   "metadata": {},
   "outputs": [],
   "source": [
    "sns.jointplot(data=dfs, x='total_usd', y='advance', kind=\"hist\")"
   ]
  },
  {
   "cell_type": "code",
   "execution_count": null,
   "metadata": {},
   "outputs": [],
   "source": [
    "dfs = pd.concat([dfs, pd.get_dummies(dfs['departure_month'], prefix='dep_mnt', drop_first=True)], axis=1)\n",
    "dfs = pd.concat([dfs, pd.get_dummies(dfs['departure_time_window_name'], prefix='dep_win', drop_first=True)], axis=1)\n",
    "dfs = pd.concat([dfs, pd.get_dummies(dfs['departure_is_weekend'], prefix='dep_we', drop_first=True)], axis=1)\n",
    "dfs = pd.concat([dfs, pd.get_dummies(dfs['return_month'], prefix='ttn_mnt', drop_first=True)], axis=1)\n",
    "dfs = pd.concat([dfs, pd.get_dummies(dfs['return_time_window_name'], prefix='rtn_win', drop_first=True)], axis=1)\n",
    "dfs = pd.concat([dfs, pd.get_dummies(dfs['return_is_weekend'], prefix='rtn_we', drop_first=True)], axis=1)\n",
    "dfs = pd.concat([dfs, pd.get_dummies(dfs['highest_cabin_class'], prefix='high_class', drop_first=True)], axis=1)\n",
    "dfs = pd.concat([dfs, pd.get_dummies(dfs['lowest_cabin_class'], prefix='low_class', drop_first=True)], axis=1)"
   ]
  },
  {
   "cell_type": "code",
   "execution_count": null,
   "metadata": {},
   "outputs": [],
   "source": [
    "dfs.head()"
   ]
  },
  {
   "cell_type": "code",
   "execution_count": null,
   "metadata": {},
   "outputs": [],
   "source": [
    "X = dfs.drop(['search_id','trip_index','received_date','received_ms','origin','destination','total_usd','pax_type','refundable', 'validating_carrier','departure_odate','departure_ms','outgoing_duration','return_odate','return_ms', 'returning_duration','major_carrier_id','includes_saturday_night_stay','lowest_cabin_class','highest_cabin_class'], axis=1)\n",
    "y = dfs['total_usd']"
   ]
  },
  {
   "cell_type": "code",
   "execution_count": null,
   "metadata": {},
   "outputs": [],
   "source": [
    "X.drop(['total_stops', 'departure_dt', 'return_dt', 'departure_day', 'departure_day_name', 'departure_month', 'departure_month_name', 'departure_season', 'departure_season_name', 'departure_time_window', 'departure_time_window_name', 'return_day', 'return_day_name', 'return_month', 'return_month_name', 'return_season', 'return_season_name', 'return_time_window', 'return_time_window_name', 'received_day', 'received_day_name', 'received_month', 'received_month_name', 'received_season', 'received_season_name', 'received_time_window', 'received_time_window_name',], axis=1, inplace=True)"
   ]
  },
  {
   "cell_type": "code",
   "execution_count": null,
   "metadata": {},
   "outputs": [],
   "source": [
    "X.drop(['received_dt'], axis=1, inplace=True)"
   ]
  },
  {
   "cell_type": "code",
   "execution_count": null,
   "metadata": {},
   "outputs": [],
   "source": [
    "X_prime = X[['advance', 'available_seats', 'outgoing_stops']]\n",
    "y = dfs['total_usd']"
   ]
  },
  {
   "cell_type": "code",
   "execution_count": null,
   "metadata": {},
   "outputs": [],
   "source": [
    "for col in X.columns:\n",
    "    print(col)"
   ]
  },
  {
   "cell_type": "code",
   "execution_count": null,
   "metadata": {},
   "outputs": [],
   "source": [
    "X_scaled = X.copy()\n",
    "target_variables = ['outgoing_stops', 'returning_stops', 'advance', 'length_of_stay', 'available_seats']\n",
    "scaler_x = StandardScaler().fit(X[target_variables])\n",
    "X_scaled[target_variables] = scaler_x.transform(X[target_variables])"
   ]
  },
  {
   "cell_type": "code",
   "execution_count": null,
   "metadata": {},
   "outputs": [],
   "source": [
    "X_scaled = X_prime.copy()\n",
    "scaler_x = StandardScaler().fit(X_prime)\n",
    "X_scaled = scaler_x.transform(X_prime)"
   ]
  },
  {
   "cell_type": "code",
   "execution_count": null,
   "metadata": {},
   "outputs": [],
   "source": [
    "X_scaled"
   ]
  },
  {
   "cell_type": "code",
   "execution_count": null,
   "metadata": {},
   "outputs": [],
   "source": [
    "y"
   ]
  },
  {
   "cell_type": "code",
   "execution_count": null,
   "metadata": {},
   "outputs": [],
   "source": [
    "y = np.array(y).reshape(-1, 1)\n",
    "scaler_y = StandardScaler().fit(y)\n",
    "y_scaled = scaler_y.transform(y)"
   ]
  },
  {
   "cell_type": "code",
   "execution_count": null,
   "metadata": {},
   "outputs": [],
   "source": [
    "y_scaled[:5]"
   ]
  },
  {
   "cell_type": "code",
   "execution_count": null,
   "metadata": {},
   "outputs": [],
   "source": [
    "X_train, X_test, y_train, y_test = train_test_split(X_scaled, y_scaled, test_size=0.3, random_state=100)"
   ]
  },
  {
   "cell_type": "code",
   "execution_count": null,
   "metadata": {},
   "outputs": [],
   "source": [
    "svr = SVR(kernel='rbf', C=1.0, epsilon=0.1)\n",
    "mlp_1 = MLPRegressor(hidden_layer_sizes=(10,), activation='relu', solver='adam')\n",
    "mlp_2 = MLPRegressor(hidden_layer_sizes=(10, 10, ), activation='relu', solver='adam')"
   ]
  },
  {
   "cell_type": "code",
   "execution_count": null,
   "metadata": {},
   "outputs": [],
   "source": [
    "model_svr = svr.fit(X_train, y_train)\n",
    "model_mlp_1 = mlp_1.fit(X_train, y_train)\n",
    "model_mlp_2 = mlp_2.fit(X_train, y_train)"
   ]
  },
  {
   "cell_type": "code",
   "execution_count": null,
   "metadata": {},
   "outputs": [],
   "source": [
    "y_pred_svr = model_svr.predict(X_test)\n",
    "y_pred_mlp_1 = model_mlp_1.predict(X_test)\n",
    "y_pred_mlp_2 = model_mlp_2.predict(X_test)"
   ]
  },
  {
   "cell_type": "code",
   "execution_count": null,
   "metadata": {},
   "outputs": [],
   "source": [
    "y_pred_mlp_2"
   ]
  },
  {
   "cell_type": "code",
   "execution_count": null,
   "metadata": {},
   "outputs": [],
   "source": [
    "y_test[:,0]"
   ]
  },
  {
   "cell_type": "code",
   "execution_count": null,
   "metadata": {},
   "outputs": [],
   "source": [
    "sns.scatterplot(x=y_test[:, 0], y=y_pred_mlp_2)"
   ]
  },
  {
   "cell_type": "code",
   "execution_count": null,
   "metadata": {},
   "outputs": [],
   "source": [
    "mlp_2 = MLPRegressor(hidden_layer_sizes=(100, 100, 100,), activation='relu', solver='adam')"
   ]
  },
  {
   "cell_type": "code",
   "execution_count": null,
   "metadata": {},
   "outputs": [],
   "source": [
    "model_mlp_2 = mlp_2.fit(X_train, y_train)\n",
    "y_pred_mlp_2 = model_mlp_2.predict(X_test)"
   ]
  },
  {
   "cell_type": "code",
   "execution_count": null,
   "metadata": {},
   "outputs": [],
   "source": [
    "sns.scatterplot(x=y_test[:, 0], y=y_pred_mlp_2)"
   ]
  },
  {
   "cell_type": "code",
   "execution_count": null,
   "metadata": {},
   "outputs": [],
   "source": [
    "r2 = r2_score(y_test[:, 0], y_pred_mlp_2)\n",
    "r2"
   ]
  },
  {
   "cell_type": "code",
   "execution_count": null,
   "metadata": {},
   "outputs": [],
   "source": []
  }
 ],
 "metadata": {
  "kernelspec": {
   "display_name": "Python 3",
   "language": "python",
   "name": "python3"
  },
  "language_info": {
   "codemirror_mode": {
    "name": "ipython",
    "version": 3
   },
   "file_extension": ".py",
   "mimetype": "text/x-python",
   "name": "python",
   "nbconvert_exporter": "python",
   "pygments_lexer": "ipython3",
   "version": "3.8.5-final"
  }
 },
 "nbformat": 4,
 "nbformat_minor": 2
}