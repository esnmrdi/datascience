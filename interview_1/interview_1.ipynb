{
 "metadata": {
  "language_info": {
   "codemirror_mode": {
    "name": "ipython",
    "version": 3
   },
   "file_extension": ".py",
   "mimetype": "text/x-python",
   "name": "python",
   "nbconvert_exporter": "python",
   "pygments_lexer": "ipython3",
   "version": "3.8.5-final"
  },
  "orig_nbformat": 2,
  "kernelspec": {
   "name": "python3",
   "display_name": "Python 3",
   "language": "python"
  }
 },
 "nbformat": 4,
 "nbformat_minor": 2,
 "cells": [
  {
   "cell_type": "code",
   "execution_count": null,
   "metadata": {},
   "outputs": [],
   "source": [
    "import numpy as np\n",
    "import pandas as pd\n",
    "import seaborn as sns"
   ]
  },
  {
   "cell_type": "code",
   "execution_count": 52,
   "metadata": {},
   "outputs": [
    {
     "output_type": "execute_result",
     "data": {
      "text/plain": [
       "    PUR_DATE   TRV_DATE      TKT_NUM  CPN_NUM    CABIN AIRLINE  ORG  DST  \\\n",
       "0 2016-02-01 2016-02-04  67637119886        1  Economy      DL  ATL  MCI   \n",
       "1 2016-02-01 2016-02-04  67637119886        2  Economy      DL  MCI  ATL   \n",
       "2 2016-02-01 2016-02-05  66163712203        1  Economy      DL  JFK  LAX   \n",
       "3 2016-02-01 2016-02-06  66163712203        2  Economy      DL  LAX  JFK   \n",
       "4 2016-02-01 2016-02-11  11256761637        1  Economy      AA  ORD  PBI   \n",
       "\n",
       "   FLT_NO  DEP_TIME  ARR_TIME   ARR_DATE  CPN_FARE  \n",
       "0    2075      1025      1132 2016-02-04       397  \n",
       "1    2256      1709      2012 2016-02-04       397  \n",
       "2     472       700      1040 2016-02-05       315  \n",
       "3    1262      2218       724 2016-02-07       315  \n",
       "4    1608       710      1107 2016-02-11       256  "
      ],
      "text/html": "<div>\n<style scoped>\n    .dataframe tbody tr th:only-of-type {\n        vertical-align: middle;\n    }\n\n    .dataframe tbody tr th {\n        vertical-align: top;\n    }\n\n    .dataframe thead th {\n        text-align: right;\n    }\n</style>\n<table border=\"1\" class=\"dataframe\">\n  <thead>\n    <tr style=\"text-align: right;\">\n      <th></th>\n      <th>PUR_DATE</th>\n      <th>TRV_DATE</th>\n      <th>TKT_NUM</th>\n      <th>CPN_NUM</th>\n      <th>CABIN</th>\n      <th>AIRLINE</th>\n      <th>ORG</th>\n      <th>DST</th>\n      <th>FLT_NO</th>\n      <th>DEP_TIME</th>\n      <th>ARR_TIME</th>\n      <th>ARR_DATE</th>\n      <th>CPN_FARE</th>\n    </tr>\n  </thead>\n  <tbody>\n    <tr>\n      <th>0</th>\n      <td>2016-02-01</td>\n      <td>2016-02-04</td>\n      <td>67637119886</td>\n      <td>1</td>\n      <td>Economy</td>\n      <td>DL</td>\n      <td>ATL</td>\n      <td>MCI</td>\n      <td>2075</td>\n      <td>1025</td>\n      <td>1132</td>\n      <td>2016-02-04</td>\n      <td>397</td>\n    </tr>\n    <tr>\n      <th>1</th>\n      <td>2016-02-01</td>\n      <td>2016-02-04</td>\n      <td>67637119886</td>\n      <td>2</td>\n      <td>Economy</td>\n      <td>DL</td>\n      <td>MCI</td>\n      <td>ATL</td>\n      <td>2256</td>\n      <td>1709</td>\n      <td>2012</td>\n      <td>2016-02-04</td>\n      <td>397</td>\n    </tr>\n    <tr>\n      <th>2</th>\n      <td>2016-02-01</td>\n      <td>2016-02-05</td>\n      <td>66163712203</td>\n      <td>1</td>\n      <td>Economy</td>\n      <td>DL</td>\n      <td>JFK</td>\n      <td>LAX</td>\n      <td>472</td>\n      <td>700</td>\n      <td>1040</td>\n      <td>2016-02-05</td>\n      <td>315</td>\n    </tr>\n    <tr>\n      <th>3</th>\n      <td>2016-02-01</td>\n      <td>2016-02-06</td>\n      <td>66163712203</td>\n      <td>2</td>\n      <td>Economy</td>\n      <td>DL</td>\n      <td>LAX</td>\n      <td>JFK</td>\n      <td>1262</td>\n      <td>2218</td>\n      <td>724</td>\n      <td>2016-02-07</td>\n      <td>315</td>\n    </tr>\n    <tr>\n      <th>4</th>\n      <td>2016-02-01</td>\n      <td>2016-02-11</td>\n      <td>11256761637</td>\n      <td>1</td>\n      <td>Economy</td>\n      <td>AA</td>\n      <td>ORD</td>\n      <td>PBI</td>\n      <td>1608</td>\n      <td>710</td>\n      <td>1107</td>\n      <td>2016-02-11</td>\n      <td>256</td>\n    </tr>\n  </tbody>\n</table>\n</div>"
     },
     "metadata": {},
     "execution_count": 52
    }
   ],
   "source": [
    "#1\n",
    "tickets_headers = ['PUR_DATE', 'TRV_DATE', 'TKT_NUM', 'CPN_NUM', 'CABIN', 'AIRLINE', 'ORG', 'DST', \\\n",
    "    'FLT_NO', 'DEP_TIME', 'ARR_TIME', 'ARR_DATE', 'CPN_FARE']\n",
    "tickets_date_headers = ['PUR_DATE', 'TRV_DATE', 'ARR_DATE']\n",
    "tickets = pd.read_csv('tickets.txt', sep='\\s+', lineterminator='\\n', header=None, names=tickets_headers, parse_dates=tickets_date_headers)\n",
    "tickets.drop_duplicates(inplace=True)\n",
    "tickets.head()"
   ]
  },
  {
   "cell_type": "code",
   "execution_count": 53,
   "metadata": {},
   "outputs": [
    {
     "output_type": "execute_result",
     "data": {
      "text/plain": [
       "  CARRIER SHARED_AL OP_INDICATOR CODESHARE1 CODESHARE2  ORG  VIA  DST  \\\n",
       "0      DL       NaN            O        NaN        NaN  DEN  NaN  DTW   \n",
       "1      DL       NaN            O    AF 2078    AZ 3264  JFK  NaN  PHX   \n",
       "2      KL        DL            N    DL 1505        NaN  MSP  NaN  SFO   \n",
       "3      DL        OO            O    VS 3361        NaN  FSD  NaN  MSP   \n",
       "4      CA        UA            N    UA  396        NaN  HNL  NaN  SFO   \n",
       "\n",
       "   SUM_GCD_MILE  FLIGHT_NO  STOPS  SEATS  DEPT_DATE  LOCAL_DEP_TIME  \n",
       "0          1119       1410      0    160 2016-02-08            1628  \n",
       "1          2147        439      0    160 2016-02-08            1830  \n",
       "2          1585       7298      0    160 2016-02-08            1746  \n",
       "3           195       4556      0     50 2016-02-08            1710  \n",
       "4          2394       7232      0    344 2016-02-08            2155  "
      ],
      "text/html": "<div>\n<style scoped>\n    .dataframe tbody tr th:only-of-type {\n        vertical-align: middle;\n    }\n\n    .dataframe tbody tr th {\n        vertical-align: top;\n    }\n\n    .dataframe thead th {\n        text-align: right;\n    }\n</style>\n<table border=\"1\" class=\"dataframe\">\n  <thead>\n    <tr style=\"text-align: right;\">\n      <th></th>\n      <th>CARRIER</th>\n      <th>SHARED_AL</th>\n      <th>OP_INDICATOR</th>\n      <th>CODESHARE1</th>\n      <th>CODESHARE2</th>\n      <th>ORG</th>\n      <th>VIA</th>\n      <th>DST</th>\n      <th>SUM_GCD_MILE</th>\n      <th>FLIGHT_NO</th>\n      <th>STOPS</th>\n      <th>SEATS</th>\n      <th>DEPT_DATE</th>\n      <th>LOCAL_DEP_TIME</th>\n    </tr>\n  </thead>\n  <tbody>\n    <tr>\n      <th>0</th>\n      <td>DL</td>\n      <td>NaN</td>\n      <td>O</td>\n      <td>NaN</td>\n      <td>NaN</td>\n      <td>DEN</td>\n      <td>NaN</td>\n      <td>DTW</td>\n      <td>1119</td>\n      <td>1410</td>\n      <td>0</td>\n      <td>160</td>\n      <td>2016-02-08</td>\n      <td>1628</td>\n    </tr>\n    <tr>\n      <th>1</th>\n      <td>DL</td>\n      <td>NaN</td>\n      <td>O</td>\n      <td>AF 2078</td>\n      <td>AZ 3264</td>\n      <td>JFK</td>\n      <td>NaN</td>\n      <td>PHX</td>\n      <td>2147</td>\n      <td>439</td>\n      <td>0</td>\n      <td>160</td>\n      <td>2016-02-08</td>\n      <td>1830</td>\n    </tr>\n    <tr>\n      <th>2</th>\n      <td>KL</td>\n      <td>DL</td>\n      <td>N</td>\n      <td>DL 1505</td>\n      <td>NaN</td>\n      <td>MSP</td>\n      <td>NaN</td>\n      <td>SFO</td>\n      <td>1585</td>\n      <td>7298</td>\n      <td>0</td>\n      <td>160</td>\n      <td>2016-02-08</td>\n      <td>1746</td>\n    </tr>\n    <tr>\n      <th>3</th>\n      <td>DL</td>\n      <td>OO</td>\n      <td>O</td>\n      <td>VS 3361</td>\n      <td>NaN</td>\n      <td>FSD</td>\n      <td>NaN</td>\n      <td>MSP</td>\n      <td>195</td>\n      <td>4556</td>\n      <td>0</td>\n      <td>50</td>\n      <td>2016-02-08</td>\n      <td>1710</td>\n    </tr>\n    <tr>\n      <th>4</th>\n      <td>CA</td>\n      <td>UA</td>\n      <td>N</td>\n      <td>UA  396</td>\n      <td>NaN</td>\n      <td>HNL</td>\n      <td>NaN</td>\n      <td>SFO</td>\n      <td>2394</td>\n      <td>7232</td>\n      <td>0</td>\n      <td>344</td>\n      <td>2016-02-08</td>\n      <td>2155</td>\n    </tr>\n  </tbody>\n</table>\n</div>"
     },
     "metadata": {},
     "execution_count": 53
    }
   ],
   "source": [
    "#1\n",
    "schedule_date_headers = ['DEPT_DATE']\n",
    "schedule = pd.read_csv('schedule.csv', header=0, parse_dates=schedule_date_headers)\n",
    "schedule.drop_duplicates(inplace=True)\n",
    "schedule.head()"
   ]
  },
  {
   "cell_type": "code",
   "execution_count": null,
   "metadata": {},
   "outputs": [],
   "source": [
    "#2\n",
    "# The problem with the schedule data is a lot of duplicate values, whiche I eliminated them using drop_duplicates() method.\n",
    "# regarding the tickets file, the file does not have a header row. So, I added them.abs\n",
    "# generally, in both files, the date and time columns are not in standard format and need transformation. Either using parse_dates argument or with the use of to_datetime() method from pandas."
   ]
  },
  {
   "cell_type": "code",
   "execution_count": 54,
   "metadata": {},
   "outputs": [
    {
     "output_type": "execute_result",
     "data": {
      "text/plain": [
       "count                     368\n",
       "unique                    110\n",
       "top       2016-02-29 00:00:00\n",
       "freq                       13\n",
       "first     2016-02-04 00:00:00\n",
       "last      2016-10-03 00:00:00\n",
       "Name: TRV_DATE, dtype: object"
      ]
     },
     "metadata": {},
     "execution_count": 54
    }
   ],
   "source": [
    "#3 Here is an overall descriptive table.\n",
    "tickets['TRV_DATE'].describe()"
   ]
  },
  {
   "cell_type": "code",
   "execution_count": 55,
   "metadata": {},
   "outputs": [
    {
     "output_type": "execute_result",
     "data": {
      "text/plain": [
       "214"
      ]
     },
     "metadata": {},
     "execution_count": 55
    }
   ],
   "source": [
    "#4 the number of unique tickets is 214.\n",
    "len(np.unique(tickets['TKT_NUM']))"
   ]
  },
  {
   "cell_type": "code",
   "execution_count": 56,
   "metadata": {},
   "outputs": [
    {
     "output_type": "execute_result",
     "data": {
      "text/plain": [
       "0    ATL\n",
       "1    ATW\n",
       "2    BNA\n",
       "3    BOS\n",
       "Name: ORG, dtype: object"
      ]
     },
     "metadata": {},
     "execution_count": 56
    }
   ],
   "source": [
    "#5 top 4 origins in terms of number of tickets are ATL, ATW, BNA, BOS\n",
    "tickets.groupby('ORG').count()\n",
    "tickets['ORG_CNT'] = tickets['ORG']\n",
    "result = tickets.groupby('ORG', as_index = False)['ORG_CNT'].count()\n",
    "result.sort_values(by='ORG_CNT', ascending=False)\n",
    "result['ORG'][:4]\n"
   ]
  },
  {
   "cell_type": "code",
   "execution_count": 73,
   "metadata": {},
   "outputs": [
    {
     "output_type": "execute_result",
     "data": {
      "text/plain": [
       "      CABIN     YIELD\n",
       "0  Business  0.526245\n",
       "1   Economy  0.237652\n",
       "2     First  0.675398"
      ],
      "text/html": "<div>\n<style scoped>\n    .dataframe tbody tr th:only-of-type {\n        vertical-align: middle;\n    }\n\n    .dataframe tbody tr th {\n        vertical-align: top;\n    }\n\n    .dataframe thead th {\n        text-align: right;\n    }\n</style>\n<table border=\"1\" class=\"dataframe\">\n  <thead>\n    <tr style=\"text-align: right;\">\n      <th></th>\n      <th>CABIN</th>\n      <th>YIELD</th>\n    </tr>\n  </thead>\n  <tbody>\n    <tr>\n      <th>0</th>\n      <td>Business</td>\n      <td>0.526245</td>\n    </tr>\n    <tr>\n      <th>1</th>\n      <td>Economy</td>\n      <td>0.237652</td>\n    </tr>\n    <tr>\n      <th>2</th>\n      <td>First</td>\n      <td>0.675398</td>\n    </tr>\n  </tbody>\n</table>\n</div>"
     },
     "metadata": {},
     "execution_count": 73
    }
   ],
   "source": [
    "#6\n",
    "\n",
    "# let's do an inner join of the two dataframes first\n",
    "merged = pd.merge(left=schedule, right=tickets, left_on=['CARRIER', 'FLIGHT_NO', 'DEPT_DATE'], right_on=['AIRLINE', 'FLT_NO', 'TRV_DATE'])\n",
    "merged.head()\n",
    "\n",
    "# now we have all data for calculating Yield in one merged dataframe\n",
    "merged['YIELD'] = merged['CPN_FARE'] / merged['SUM_GCD_MILE']\n",
    "merged.head()\n",
    "\n",
    "# the average yield for the three classes is:\n",
    "result = merged.groupby('CABIN', as_index = False)['YIELD'].mean()\n",
    "result"
   ]
  },
  {
   "cell_type": "code",
   "execution_count": 74,
   "metadata": {},
   "outputs": [
    {
     "output_type": "stream",
     "name": "stdout",
     "text": [
      "mean of lead time is : 37 days 17:22:59.439252336\nmaximum of lead time is : 220 days 00:00:00\nminimum of lead time is : 0 days 00:00:00\n"
     ]
    }
   ],
   "source": [
    "#7\n",
    "\n",
    "# first, let's subset the first coupons\n",
    "first_coupons = tickets[tickets['CPN_NUM'] == 1]\n",
    "\n",
    "# now, we could calculate lead time:\n",
    "first_coupons['LEAD_TIME']= first_coupons['TRV_DATE'] - first_coupons['PUR_DATE']\n",
    "mean = np.mean(first_coupons['LEAD_TIME'])\n",
    "maximum = first_coupons['LEAD_TIME'].max()\n",
    "minimum = first_coupons['LEAD_TIME'].min()\n",
    "print(f'mean of lead time is : {mean}')\n",
    "print(f'maximum of lead time is : {maximum}')\n",
    "print(f'minimum of lead time is : {minimum}')"
   ]
  },
  {
   "cell_type": "code",
   "execution_count": 75,
   "metadata": {},
   "outputs": [
    {
     "output_type": "stream",
     "name": "stdout",
     "text": [
      "Return: 87\nOne-Way: 127\nTotal Tickets: 214\n"
     ]
    }
   ],
   "source": [
    "#8\n",
    "\n",
    "tmp = {str(k): f.to_numpy().tolist() for k, f in tickets.groupby('TKT_NUM')}\n",
    "one_way_cnt, return_cnt = 0, 0\n",
    "for ticket_no, legs in tmp.items():\n",
    "    if legs[0][6] == legs[-1][7]:\n",
    "        return_cnt +=1\n",
    "    else:\n",
    "        one_way_cnt += 1\n",
    "print(f'Return: {return_cnt}')\n",
    "print(f'One-Way: {one_way_cnt}')\n",
    "print(f'Total Tickets: {len(tmp)}')"
   ]
  },
  {
   "cell_type": "code",
   "execution_count": 89,
   "metadata": {},
   "outputs": [
    {
     "output_type": "stream",
     "name": "stdout",
     "text": [
      "Number of tickets sold on codeshared flights is: 336\n"
     ]
    },
    {
     "output_type": "execute_result",
     "data": {
      "text/plain": [
       "    CODESHARE1 CODESHARE2\n",
       "124    AF 8668    KL 6706\n",
       "125    AF 8668    KL 6706\n",
       "126    AY 4096    BA 1578\n",
       "127    QF 4506        NaN\n",
       "128    AS 1005    BA 4790\n",
       "..         ...        ...\n",
       "373    BA 4795    GF 6882\n",
       "374    VA 6596    WS 6570\n",
       "375    CM 2194    NZ 9285\n",
       "376    AM 5908    VS 2529\n",
       "377    AC 5012    NH 7260\n",
       "\n",
       "[200 rows x 2 columns]"
      ],
      "text/html": "<div>\n<style scoped>\n    .dataframe tbody tr th:only-of-type {\n        vertical-align: middle;\n    }\n\n    .dataframe tbody tr th {\n        vertical-align: top;\n    }\n\n    .dataframe thead th {\n        text-align: right;\n    }\n</style>\n<table border=\"1\" class=\"dataframe\">\n  <thead>\n    <tr style=\"text-align: right;\">\n      <th></th>\n      <th>CODESHARE1</th>\n      <th>CODESHARE2</th>\n    </tr>\n  </thead>\n  <tbody>\n    <tr>\n      <th>124</th>\n      <td>AF 8668</td>\n      <td>KL 6706</td>\n    </tr>\n    <tr>\n      <th>125</th>\n      <td>AF 8668</td>\n      <td>KL 6706</td>\n    </tr>\n    <tr>\n      <th>126</th>\n      <td>AY 4096</td>\n      <td>BA 1578</td>\n    </tr>\n    <tr>\n      <th>127</th>\n      <td>QF 4506</td>\n      <td>NaN</td>\n    </tr>\n    <tr>\n      <th>128</th>\n      <td>AS 1005</td>\n      <td>BA 4790</td>\n    </tr>\n    <tr>\n      <th>...</th>\n      <td>...</td>\n      <td>...</td>\n    </tr>\n    <tr>\n      <th>373</th>\n      <td>BA 4795</td>\n      <td>GF 6882</td>\n    </tr>\n    <tr>\n      <th>374</th>\n      <td>VA 6596</td>\n      <td>WS 6570</td>\n    </tr>\n    <tr>\n      <th>375</th>\n      <td>CM 2194</td>\n      <td>NZ 9285</td>\n    </tr>\n    <tr>\n      <th>376</th>\n      <td>AM 5908</td>\n      <td>VS 2529</td>\n    </tr>\n    <tr>\n      <th>377</th>\n      <td>AC 5012</td>\n      <td>NH 7260</td>\n    </tr>\n  </tbody>\n</table>\n<p>200 rows × 2 columns</p>\n</div>"
     },
     "metadata": {},
     "execution_count": 89
    }
   ],
   "source": [
    "#9\n",
    "\n",
    "# drop rows with at least one NaN value\n",
    "merged_non_null = merged[['CODESHARE1', 'CODESHARE2']].dropna(thresh=1)\n",
    "print(f'Number of tickets sold on codeshared flights is: {len(merged_non_null)}')"
   ]
  }
 ]
}