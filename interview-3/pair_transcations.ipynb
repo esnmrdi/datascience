{
 "metadata": {
  "language_info": {
   "codemirror_mode": {
    "name": "ipython",
    "version": 3
   },
   "file_extension": ".py",
   "mimetype": "text/x-python",
   "name": "python",
   "nbconvert_exporter": "python",
   "pygments_lexer": "ipython3",
   "version": "3.8.8-final"
  },
  "orig_nbformat": 2,
  "kernelspec": {
   "name": "python3",
   "display_name": "Python 3.8.8 64-bit",
   "metadata": {
    "interpreter": {
     "hash": "b0acd0db7f4383766e8b4b1e0229b457034d231b9a956db1857be6d912018907"
    }
   }
  }
 },
 "nbformat": 4,
 "nbformat_minor": 2,
 "cells": [
  {
   "cell_type": "code",
   "execution_count": 1,
   "metadata": {},
   "outputs": [],
   "source": [
    "import pandas as pd\n",
    "import numpy as np"
   ]
  },
  {
   "cell_type": "code",
   "execution_count": 15,
   "metadata": {},
   "outputs": [],
   "source": [
    "df = pd.read_csv('test_data.csv')"
   ]
  },
  {
   "cell_type": "code",
   "execution_count": 22,
   "metadata": {},
   "outputs": [
    {
     "output_type": "stream",
     "name": "stdout",
     "text": [
      "<class 'pandas.core.frame.DataFrame'>\nRangeIndex: 100000 entries, 0 to 99999\nData columns (total 5 columns):\n #   Column            Non-Null Count   Dtype  \n---  ------            --------------   -----  \n 0   transaction_date  100000 non-null  object \n 1   property_id       100000 non-null  int64  \n 2   property_type     100000 non-null  object \n 3   region            100000 non-null  object \n 4   price             100000 non-null  float64\ndtypes: float64(1), int64(1), object(3)\nmemory usage: 3.8+ MB\n"
     ]
    }
   ],
   "source": [
    "df.info()"
   ]
  },
  {
   "cell_type": "code",
   "execution_count": 16,
   "metadata": {},
   "outputs": [
    {
     "output_type": "execute_result",
     "data": {
      "text/plain": [
       "  transaction_date  property_id           property_type            region  \\\n",
       "0       2020-01-01       512624                   Condo   Metro Vancouver   \n",
       "1       2020-01-01       499817                   Condo           Nanaimo   \n",
       "2       2020-01-01       388958               Townhouse  Central Okanagan   \n",
       "3       2020-01-01       708544               Townhorse           Nanaimo   \n",
       "4       2020-01-01       227012  Single Family Dwelling   Metro Vancouver   \n",
       "\n",
       "        price  \n",
       "0   812353.75  \n",
       "1   261333.66  \n",
       "2   744377.10  \n",
       "3   555737.79  \n",
       "4  1186354.04  "
      ],
      "text/html": "<div>\n<style scoped>\n    .dataframe tbody tr th:only-of-type {\n        vertical-align: middle;\n    }\n\n    .dataframe tbody tr th {\n        vertical-align: top;\n    }\n\n    .dataframe thead th {\n        text-align: right;\n    }\n</style>\n<table border=\"1\" class=\"dataframe\">\n  <thead>\n    <tr style=\"text-align: right;\">\n      <th></th>\n      <th>transaction_date</th>\n      <th>property_id</th>\n      <th>property_type</th>\n      <th>region</th>\n      <th>price</th>\n    </tr>\n  </thead>\n  <tbody>\n    <tr>\n      <th>0</th>\n      <td>2020-01-01</td>\n      <td>512624</td>\n      <td>Condo</td>\n      <td>Metro Vancouver</td>\n      <td>812353.75</td>\n    </tr>\n    <tr>\n      <th>1</th>\n      <td>2020-01-01</td>\n      <td>499817</td>\n      <td>Condo</td>\n      <td>Nanaimo</td>\n      <td>261333.66</td>\n    </tr>\n    <tr>\n      <th>2</th>\n      <td>2020-01-01</td>\n      <td>388958</td>\n      <td>Townhouse</td>\n      <td>Central Okanagan</td>\n      <td>744377.10</td>\n    </tr>\n    <tr>\n      <th>3</th>\n      <td>2020-01-01</td>\n      <td>708544</td>\n      <td>Townhorse</td>\n      <td>Nanaimo</td>\n      <td>555737.79</td>\n    </tr>\n    <tr>\n      <th>4</th>\n      <td>2020-01-01</td>\n      <td>227012</td>\n      <td>Single Family Dwelling</td>\n      <td>Metro Vancouver</td>\n      <td>1186354.04</td>\n    </tr>\n  </tbody>\n</table>\n</div>"
     },
     "metadata": {},
     "execution_count": 16
    }
   ],
   "source": [
    "df.head()"
   ]
  },
  {
   "cell_type": "code",
   "execution_count": 17,
   "metadata": {},
   "outputs": [],
   "source": [
    "dfs = df[df.groupby(['property_id'])['property_id'].transform('size') > 1]"
   ]
  },
  {
   "cell_type": "code",
   "execution_count": 18,
   "metadata": {},
   "outputs": [
    {
     "output_type": "execute_result",
     "data": {
      "text/plain": [
       "   transaction_date  property_id           property_type           region  \\\n",
       "10       2020-01-01       420865               Townhouse          Capital   \n",
       "11       2020-01-01       359351                   Condo  Thompson-Nicola   \n",
       "15       2020-01-01       493031  Single Family Dwelling  Metro Vancouver   \n",
       "19       2020-01-01       329125               Townhouse  Metro Vancouver   \n",
       "23       2020-01-01       769720                   Condo  Metro Vancouver   \n",
       "\n",
       "         price  \n",
       "10   712456.60  \n",
       "11   380369.43  \n",
       "15  1167963.48  \n",
       "19   927680.61  \n",
       "23   827128.99  "
      ],
      "text/html": "<div>\n<style scoped>\n    .dataframe tbody tr th:only-of-type {\n        vertical-align: middle;\n    }\n\n    .dataframe tbody tr th {\n        vertical-align: top;\n    }\n\n    .dataframe thead th {\n        text-align: right;\n    }\n</style>\n<table border=\"1\" class=\"dataframe\">\n  <thead>\n    <tr style=\"text-align: right;\">\n      <th></th>\n      <th>transaction_date</th>\n      <th>property_id</th>\n      <th>property_type</th>\n      <th>region</th>\n      <th>price</th>\n    </tr>\n  </thead>\n  <tbody>\n    <tr>\n      <th>10</th>\n      <td>2020-01-01</td>\n      <td>420865</td>\n      <td>Townhouse</td>\n      <td>Capital</td>\n      <td>712456.60</td>\n    </tr>\n    <tr>\n      <th>11</th>\n      <td>2020-01-01</td>\n      <td>359351</td>\n      <td>Condo</td>\n      <td>Thompson-Nicola</td>\n      <td>380369.43</td>\n    </tr>\n    <tr>\n      <th>15</th>\n      <td>2020-01-01</td>\n      <td>493031</td>\n      <td>Single Family Dwelling</td>\n      <td>Metro Vancouver</td>\n      <td>1167963.48</td>\n    </tr>\n    <tr>\n      <th>19</th>\n      <td>2020-01-01</td>\n      <td>329125</td>\n      <td>Townhouse</td>\n      <td>Metro Vancouver</td>\n      <td>927680.61</td>\n    </tr>\n    <tr>\n      <th>23</th>\n      <td>2020-01-01</td>\n      <td>769720</td>\n      <td>Condo</td>\n      <td>Metro Vancouver</td>\n      <td>827128.99</td>\n    </tr>\n  </tbody>\n</table>\n</div>"
     },
     "metadata": {},
     "execution_count": 18
    }
   ],
   "source": [
    "dfs.head()"
   ]
  },
  {
   "cell_type": "code",
   "execution_count": 23,
   "metadata": {},
   "outputs": [
    {
     "output_type": "execute_result",
     "data": {
      "text/plain": [
       "     transaction_date  property_id property_type           region      price\n",
       "23         2020-01-01       769720         Condo  Metro Vancouver  827128.99\n",
       "6634       2020-09-04       769720         Condo  Metro Vancouver  857886.91"
      ],
      "text/html": "<div>\n<style scoped>\n    .dataframe tbody tr th:only-of-type {\n        vertical-align: middle;\n    }\n\n    .dataframe tbody tr th {\n        vertical-align: top;\n    }\n\n    .dataframe thead th {\n        text-align: right;\n    }\n</style>\n<table border=\"1\" class=\"dataframe\">\n  <thead>\n    <tr style=\"text-align: right;\">\n      <th></th>\n      <th>transaction_date</th>\n      <th>property_id</th>\n      <th>property_type</th>\n      <th>region</th>\n      <th>price</th>\n    </tr>\n  </thead>\n  <tbody>\n    <tr>\n      <th>23</th>\n      <td>2020-01-01</td>\n      <td>769720</td>\n      <td>Condo</td>\n      <td>Metro Vancouver</td>\n      <td>827128.99</td>\n    </tr>\n    <tr>\n      <th>6634</th>\n      <td>2020-09-04</td>\n      <td>769720</td>\n      <td>Condo</td>\n      <td>Metro Vancouver</td>\n      <td>857886.91</td>\n    </tr>\n  </tbody>\n</table>\n</div>"
     },
     "metadata": {},
     "execution_count": 23
    }
   ],
   "source": [
    "dfs[dfs['property_id'] == 769720]"
   ]
  },
  {
   "cell_type": "code",
   "execution_count": 24,
   "metadata": {},
   "outputs": [
    {
     "output_type": "execute_result",
     "data": {
      "text/plain": [
       "     transaction_date  property_id property_type           region      price\n",
       "23         2020-01-01       769720         Condo  Metro Vancouver  827128.99\n",
       "6634       2020-09-04       769720         Condo  Metro Vancouver  857886.91"
      ],
      "text/html": "<div>\n<style scoped>\n    .dataframe tbody tr th:only-of-type {\n        vertical-align: middle;\n    }\n\n    .dataframe tbody tr th {\n        vertical-align: top;\n    }\n\n    .dataframe thead th {\n        text-align: right;\n    }\n</style>\n<table border=\"1\" class=\"dataframe\">\n  <thead>\n    <tr style=\"text-align: right;\">\n      <th></th>\n      <th>transaction_date</th>\n      <th>property_id</th>\n      <th>property_type</th>\n      <th>region</th>\n      <th>price</th>\n    </tr>\n  </thead>\n  <tbody>\n    <tr>\n      <th>23</th>\n      <td>2020-01-01</td>\n      <td>769720</td>\n      <td>Condo</td>\n      <td>Metro Vancouver</td>\n      <td>827128.99</td>\n    </tr>\n    <tr>\n      <th>6634</th>\n      <td>2020-09-04</td>\n      <td>769720</td>\n      <td>Condo</td>\n      <td>Metro Vancouver</td>\n      <td>857886.91</td>\n    </tr>\n  </tbody>\n</table>\n</div>"
     },
     "metadata": {},
     "execution_count": 24
    }
   ],
   "source": [
    "df[df['property_id'] == 769720]"
   ]
  },
  {
   "cell_type": "code",
   "execution_count": null,
   "metadata": {},
   "outputs": [],
   "source": []
  }
 ]
}