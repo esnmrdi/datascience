{
 "metadata": {
  "language_info": {
   "codemirror_mode": {
    "name": "ipython",
    "version": 3
   },
   "file_extension": ".py",
   "mimetype": "text/x-python",
   "name": "python",
   "nbconvert_exporter": "python",
   "pygments_lexer": "ipython3",
   "version": "3.8.5-final"
  },
  "orig_nbformat": 2,
  "kernelspec": {
   "name": "python3",
   "display_name": "Python 3",
   "language": "python"
  }
 },
 "nbformat": 4,
 "nbformat_minor": 2,
 "cells": [
  {
   "cell_type": "code",
   "execution_count": 275,
   "metadata": {},
   "outputs": [],
   "source": [
    "import numpy as np\n",
    "import pandas as pd\n",
    "from scipy.stats import ttest_ind\n",
    "from sklearn.linear_model import LinearRegression\n",
    "from sklearn.preprocessing import StandardScaler\n",
    "from sklearn.model_selection import train_test_split\n",
    "from sklearn.metrics import r2_score\n",
    "import seaborn as sns"
   ]
  },
  {
   "cell_type": "code",
   "execution_count": 276,
   "metadata": {},
   "outputs": [],
   "source": [
    "df_admissions = pd.read_csv('Admissions.csv')\n",
    "df_lab = pd.read_csv('lab.csv')\n",
    "df_transfusions = pd.read_csv('transfusions.csv')"
   ]
  },
  {
   "cell_type": "code",
   "execution_count": 277,
   "metadata": {},
   "outputs": [
    {
     "output_type": "execute_result",
     "data": {
      "text/plain": [
       "   admission_id        test_name test_code result_unit  result_value  \\\n",
       "0          4416          Albumin       ALB        g/dL           4.1   \n",
       "1          4636   Platelet Count       PLT        E9/L         295.0   \n",
       "2          8041       Hemoglobin       RBC         g/L         165.4   \n",
       "3          7384  Chloride plasma      CLPL      mmol/L         193.0   \n",
       "4          2604          Albumin       ALB        g/dL           6.0   \n",
       "\n",
       "  result_date result_time  \n",
       "0  2003-08-19       02:25  \n",
       "1  2012-02-05       01:42  \n",
       "2  2004-04-18       08:05  \n",
       "3  2000-04-04       14:55  \n",
       "4  2008-02-01       11:30  "
      ],
      "text/html": "<div>\n<style scoped>\n    .dataframe tbody tr th:only-of-type {\n        vertical-align: middle;\n    }\n\n    .dataframe tbody tr th {\n        vertical-align: top;\n    }\n\n    .dataframe thead th {\n        text-align: right;\n    }\n</style>\n<table border=\"1\" class=\"dataframe\">\n  <thead>\n    <tr style=\"text-align: right;\">\n      <th></th>\n      <th>admission_id</th>\n      <th>test_name</th>\n      <th>test_code</th>\n      <th>result_unit</th>\n      <th>result_value</th>\n      <th>result_date</th>\n      <th>result_time</th>\n    </tr>\n  </thead>\n  <tbody>\n    <tr>\n      <th>0</th>\n      <td>4416</td>\n      <td>Albumin</td>\n      <td>ALB</td>\n      <td>g/dL</td>\n      <td>4.1</td>\n      <td>2003-08-19</td>\n      <td>02:25</td>\n    </tr>\n    <tr>\n      <th>1</th>\n      <td>4636</td>\n      <td>Platelet Count</td>\n      <td>PLT</td>\n      <td>E9/L</td>\n      <td>295.0</td>\n      <td>2012-02-05</td>\n      <td>01:42</td>\n    </tr>\n    <tr>\n      <th>2</th>\n      <td>8041</td>\n      <td>Hemoglobin</td>\n      <td>RBC</td>\n      <td>g/L</td>\n      <td>165.4</td>\n      <td>2004-04-18</td>\n      <td>08:05</td>\n    </tr>\n    <tr>\n      <th>3</th>\n      <td>7384</td>\n      <td>Chloride plasma</td>\n      <td>CLPL</td>\n      <td>mmol/L</td>\n      <td>193.0</td>\n      <td>2000-04-04</td>\n      <td>14:55</td>\n    </tr>\n    <tr>\n      <th>4</th>\n      <td>2604</td>\n      <td>Albumin</td>\n      <td>ALB</td>\n      <td>g/dL</td>\n      <td>6.0</td>\n      <td>2008-02-01</td>\n      <td>11:30</td>\n    </tr>\n  </tbody>\n</table>\n</div>"
     },
     "metadata": {},
     "execution_count": 277
    }
   ],
   "source": [
    "df_lab.head()"
   ]
  },
  {
   "cell_type": "code",
   "execution_count": 278,
   "metadata": {},
   "outputs": [],
   "source": [
    "# first left join on admissions\n",
    "left = df_admissions\n",
    "right = df_lab\n",
    "df_temp = pd.merge(left, right, how='left', on=['admission_id'])"
   ]
  },
  {
   "cell_type": "code",
   "execution_count": 279,
   "metadata": {},
   "outputs": [],
   "source": [
    "# final left join on admissions\n",
    "left = df_temp\n",
    "right = df_transfusions\n",
    "df_all = pd.merge(left, right, how='left', on=['admission_id'])"
   ]
  },
  {
   "cell_type": "code",
   "execution_count": 280,
   "metadata": {},
   "outputs": [
    {
     "output_type": "execute_result",
     "data": {
      "text/plain": [
       "Index(['admission_id', 'patient_id', 'admission_date', 'admission_time',\n",
       "       'discharge_date', 'discharge_time', 'hospital', 'age', 'sex',\n",
       "       'charlson_comorbidity_index', 'lap_score', 'test_name', 'test_code',\n",
       "       'result_unit', 'result_value', 'result_date', 'result_time',\n",
       "       'issue_date', 'issue_time', 'rbc_transfusion', 'platelet_transfusion',\n",
       "       'plasma_transfusion'],\n",
       "      dtype='object')"
      ]
     },
     "metadata": {},
     "execution_count": 280
    }
   ],
   "source": [
    "df_all.columns"
   ]
  },
  {
   "cell_type": "code",
   "execution_count": 281,
   "metadata": {},
   "outputs": [
    {
     "output_type": "execute_result",
     "data": {
      "text/plain": [
       "5231"
      ]
     },
     "metadata": {},
     "execution_count": 281
    }
   ],
   "source": [
    "len(df_all)"
   ]
  },
  {
   "cell_type": "code",
   "execution_count": 282,
   "metadata": {},
   "outputs": [],
   "source": [
    "most_fequent_age = df_all['age'].value_counts().index.tolist()[0]\n",
    "least_fequent_age = df_all['age'].value_counts().index.tolist()[-1]\n",
    "age_median = df_all['age'].median()\n",
    "age_mean = df_all['age'].mean()\n",
    "most_fequent_charlson = df_all['charlson_comorbidity_index'].value_counts().index.tolist()[0]\n",
    "least_fequent_charlson = df_all['charlson_comorbidity_index'].value_counts().index.tolist()[-1]\n"
   ]
  },
  {
   "cell_type": "code",
   "execution_count": 283,
   "metadata": {},
   "outputs": [
    {
     "output_type": "execute_result",
     "data": {
      "text/plain": [
       "55.0"
      ]
     },
     "metadata": {},
     "execution_count": 283
    }
   ],
   "source": [
    "age_median"
   ]
  },
  {
   "cell_type": "code",
   "execution_count": 284,
   "metadata": {},
   "outputs": [],
   "source": [
    "# imputation for age\n",
    "for index, row in df_all.iterrows():\n",
    "    if pd.isna(df_all.iloc[index, 7]):\n",
    "        df_all.iloc[index, 7] = age_median\n",
    "\n",
    "# imputation for charlson index\n",
    "for index, row in df_all.iterrows():\n",
    "    if pd.isna(df_all.iloc[index, 9]):\n",
    "        df_all.iloc[index, 9] = most_fequent_charlson"
   ]
  },
  {
   "cell_type": "code",
   "execution_count": 285,
   "metadata": {},
   "outputs": [],
   "source": [
    "# converting sex to 0 and 1\n",
    "for index, row in df_all.iterrows():\n",
    "    if df_all.iloc[index, 8] == \"M\":\n",
    "        df_all.iloc[index, 8] = 0\n",
    "    else:\n",
    "        df_all.iloc[index, 8] = 1"
   ]
  },
  {
   "cell_type": "code",
   "execution_count": 286,
   "metadata": {},
   "outputs": [
    {
     "output_type": "execute_result",
     "data": {
      "text/plain": [
       "0      NaN\n",
       "1      NaN\n",
       "2    False\n",
       "3      NaN\n",
       "4      NaN\n",
       "Name: rbc_transfusion, dtype: object"
      ]
     },
     "metadata": {},
     "execution_count": 286
    }
   ],
   "source": [
    "df_all['rbc_transfusion'].head()"
   ]
  },
  {
   "cell_type": "code",
   "execution_count": 287,
   "metadata": {},
   "outputs": [],
   "source": [
    "# separate those who have done rbc transfusion and those who have not\n",
    "rbc_trans_true = df_all[df_all['rbc_transfusion'] == True]\n",
    "rbc_trans_false = df_all[df_all['rbc_transfusion'] == False]"
   ]
  },
  {
   "cell_type": "code",
   "execution_count": 288,
   "metadata": {},
   "outputs": [
    {
     "output_type": "execute_result",
     "data": {
      "text/plain": [
       "Ttest_indResult(statistic=-7.610584618334025, pvalue=9.539871889987221e-14)"
      ]
     },
     "metadata": {},
     "execution_count": 288
    }
   ],
   "source": [
    "# t-test for age\n",
    "ttest_ind(rbc_trans_false['age'], rbc_trans_true['age'])"
   ]
  },
  {
   "cell_type": "code",
   "execution_count": 289,
   "metadata": {},
   "outputs": [
    {
     "output_type": "execute_result",
     "data": {
      "text/plain": [
       "Ttest_indResult(statistic=1.1686222184905088, pvalue=0.24298101758275373)"
      ]
     },
     "metadata": {},
     "execution_count": 289
    }
   ],
   "source": [
    "\n",
    "# t-test for sex\n",
    "ttest_ind(rbc_trans_false['sex'], rbc_trans_true['sex'])"
   ]
  },
  {
   "cell_type": "code",
   "execution_count": 290,
   "metadata": {},
   "outputs": [
    {
     "output_type": "execute_result",
     "data": {
      "text/plain": [
       "Index(['admission_id', 'patient_id', 'admission_date', 'admission_time',\n",
       "       'discharge_date', 'discharge_time', 'hospital', 'age', 'sex',\n",
       "       'charlson_comorbidity_index', 'lap_score', 'test_name', 'test_code',\n",
       "       'result_unit', 'result_value', 'result_date', 'result_time',\n",
       "       'issue_date', 'issue_time', 'rbc_transfusion', 'platelet_transfusion',\n",
       "       'plasma_transfusion'],\n",
       "      dtype='object')"
      ]
     },
     "metadata": {},
     "execution_count": 290
    }
   ],
   "source": [
    "df_all.columns"
   ]
  },
  {
   "cell_type": "code",
   "execution_count": 291,
   "metadata": {},
   "outputs": [],
   "source": [
    "# converting categorical variables, \"hospital\" and \"sex\", to dummy variables\n",
    "df_all = pd.concat([df_all, pd.get_dummies(df_all['hospital'], prefix='hosp', drop_first=True)], axis=1)\n",
    "df_all = pd.concat([df_all, pd.get_dummies(df_all['sex'], prefix='sex', drop_first=True)], axis=1)"
   ]
  },
  {
   "cell_type": "code",
   "execution_count": 292,
   "metadata": {},
   "outputs": [],
   "source": [
    "df_all_no_null = df_all.dropna()"
   ]
  },
  {
   "cell_type": "code",
   "execution_count": 293,
   "metadata": {},
   "outputs": [
    {
     "output_type": "execute_result",
     "data": {
      "text/plain": [
       "2         1.8\n",
       "23      100.8\n",
       "32      159.6\n",
       "52      102.2\n",
       "80      131.3\n",
       "        ...  \n",
       "5177      1.4\n",
       "5181      1.1\n",
       "5187    169.1\n",
       "5189    161.9\n",
       "5191      1.8\n",
       "Name: result_value, Length: 415, dtype: float64"
      ]
     },
     "metadata": {},
     "execution_count": 293
    }
   ],
   "source": [
    "df_all_no_null['result_value']"
   ]
  },
  {
   "cell_type": "code",
   "execution_count": 294,
   "metadata": {},
   "outputs": [
    {
     "output_type": "execute_result",
     "data": {
      "text/plain": [
       "Index(['admission_id', 'patient_id', 'admission_date', 'admission_time',\n",
       "       'discharge_date', 'discharge_time', 'hospital', 'age', 'sex',\n",
       "       'charlson_comorbidity_index', 'lap_score', 'test_name', 'test_code',\n",
       "       'result_unit', 'result_value', 'result_date', 'result_time',\n",
       "       'issue_date', 'issue_time', 'rbc_transfusion', 'platelet_transfusion',\n",
       "       'plasma_transfusion', 'hosp_St. Joseph's Health Centre',\n",
       "       'hosp_St. Michael's Hospital', 'hosp_Sunnybrook Health Sciences Centre',\n",
       "       'hosp_Toronto Western Hospital', 'sex_1'],\n",
       "      dtype='object')"
      ]
     },
     "metadata": {},
     "execution_count": 294
    }
   ],
   "source": [
    "df_all_no_null.columns"
   ]
  },
  {
   "cell_type": "code",
   "execution_count": 295,
   "metadata": {},
   "outputs": [],
   "source": [
    "X = df_all_no_null[[\"age\", \"sex_1\", \n",
    "                    \"hosp_St. Joseph's Health Centre\",\n",
    "                    \"hosp_St. Michael's Hospital\", \"hosp_Sunnybrook Health Sciences Centre\",\n",
    "                    \"hosp_Toronto Western Hospital\"]]\n",
    "y = df_all_no_null['result_value']"
   ]
  },
  {
   "cell_type": "code",
   "execution_count": 298,
   "metadata": {},
   "outputs": [],
   "source": [
    "X_scaled = X.copy()\n",
    "scaler_x = StandardScaler().fit(X)\n",
    "X_scaled = scaler_x.transform(X)"
   ]
  },
  {
   "cell_type": "code",
   "execution_count": 299,
   "metadata": {},
   "outputs": [],
   "source": [
    "y = np.array(y).reshape(-1, 1)\n",
    "scaler_y = StandardScaler().fit(y)\n",
    "y_scaled = scaler_y.transform(y)"
   ]
  },
  {
   "cell_type": "code",
   "execution_count": 300,
   "metadata": {},
   "outputs": [],
   "source": [
    "# Create train and test sets\n",
    "X_train, X_test, y_train, y_test = train_test_split(X, y, test_size=0.3, random_state=42)"
   ]
  },
  {
   "cell_type": "code",
   "execution_count": 301,
   "metadata": {},
   "outputs": [],
   "source": [
    "# fit the regression model to the data\n",
    "lm = LinearRegression().fit(X_train, y_train)"
   ]
  },
  {
   "cell_type": "code",
   "execution_count": 302,
   "metadata": {},
   "outputs": [
    {
     "output_type": "execute_result",
     "data": {
      "text/plain": [
       "125"
      ]
     },
     "metadata": {},
     "execution_count": 302
    }
   ],
   "source": [
    "y_test_arr = list(np.array(y_test))\n",
    "len(y_test_arr)"
   ]
  },
  {
   "cell_type": "code",
   "execution_count": 303,
   "metadata": {},
   "outputs": [],
   "source": [
    "y_pred = lm.predict(X_test)"
   ]
  },
  {
   "cell_type": "code",
   "execution_count": 304,
   "metadata": {},
   "outputs": [
    {
     "output_type": "execute_result",
     "data": {
      "text/plain": [
       "0.16258130518279335"
      ]
     },
     "metadata": {},
     "execution_count": 304
    }
   ],
   "source": [
    "r2_score(y_test, y_pred)"
   ]
  },
  {
   "cell_type": "code",
   "execution_count": 305,
   "metadata": {},
   "outputs": [
    {
     "output_type": "execute_result",
     "data": {
      "text/plain": [
       "Index(['admission_id', 'patient_id', 'admission_date', 'admission_time',\n",
       "       'discharge_date', 'discharge_time', 'hospital', 'age', 'sex',\n",
       "       'charlson_comorbidity_index', 'lap_score', 'test_name', 'test_code',\n",
       "       'result_unit', 'result_value', 'result_date', 'result_time',\n",
       "       'issue_date', 'issue_time', 'rbc_transfusion', 'platelet_transfusion',\n",
       "       'plasma_transfusion', 'hosp_St. Joseph's Health Centre',\n",
       "       'hosp_St. Michael's Hospital', 'hosp_Sunnybrook Health Sciences Centre',\n",
       "       'hosp_Toronto Western Hospital', 'sex_1'],\n",
       "      dtype='object')"
      ]
     },
     "metadata": {},
     "execution_count": 305
    }
   ],
   "source": [
    "df_all.columns"
   ]
  },
  {
   "cell_type": "code",
   "execution_count": 306,
   "metadata": {},
   "outputs": [
    {
     "output_type": "execute_result",
     "data": {
      "text/plain": [
       "admission_id                                int64\n",
       "patient_id                                  int64\n",
       "admission_date                             object\n",
       "admission_time                             object\n",
       "discharge_date                             object\n",
       "discharge_time                             object\n",
       "hospital                                   object\n",
       "age                                       float64\n",
       "sex                                        object\n",
       "charlson_comorbidity_index                 object\n",
       "lap_score                                   int64\n",
       "test_name                                  object\n",
       "test_code                                  object\n",
       "result_unit                                object\n",
       "result_value                              float64\n",
       "result_date                                object\n",
       "result_time                                object\n",
       "issue_date                                 object\n",
       "issue_time                                 object\n",
       "rbc_transfusion                            object\n",
       "platelet_transfusion                       object\n",
       "plasma_transfusion                         object\n",
       "hosp_St. Joseph's Health Centre             uint8\n",
       "hosp_St. Michael's Hospital                 uint8\n",
       "hosp_Sunnybrook Health Sciences Centre      uint8\n",
       "hosp_Toronto Western Hospital               uint8\n",
       "sex_1                                       uint8\n",
       "dtype: object"
      ]
     },
     "metadata": {},
     "execution_count": 306
    }
   ],
   "source": [
    "df_all.dtypes"
   ]
  },
  {
   "cell_type": "code",
   "execution_count": 310,
   "metadata": {},
   "outputs": [
    {
     "output_type": "execute_result",
     "data": {
      "text/plain": [
       "2     2002-08-24\n",
       "23    2002-07-04\n",
       "32    2010-09-27\n",
       "52    2010-11-05\n",
       "80    2011-04-19\n",
       "Name: admission_date, dtype: object"
      ]
     },
     "metadata": {},
     "execution_count": 310
    }
   ],
   "source": [
    "df_all_no_null['admission_date'].head()"
   ]
  },
  {
   "cell_type": "code",
   "execution_count": 309,
   "metadata": {},
   "outputs": [
    {
     "output_type": "execute_result",
     "data": {
      "text/plain": [
       "2     14:28\n",
       "23    08:11\n",
       "32    10:37\n",
       "52    15:31\n",
       "80    11:11\n",
       "Name: admission_time, dtype: object"
      ]
     },
     "metadata": {},
     "execution_count": 309
    }
   ],
   "source": [
    "df_all_no_null['admission_time'].head()"
   ]
  },
  {
   "cell_type": "code",
   "execution_count": 311,
   "metadata": {},
   "outputs": [],
   "source": [
    "df_all_no_null['admission_dt'] = df_all_no_null['admission_date'] + \" \" + df_all_no_null['admission_time']\n",
    "df_all_no_null['discharge_dt'] = df_all_no_null['discharge_date'] + \" \" + df_all_no_null['discharge_time']"
   ]
  },
  {
   "cell_type": "code",
   "execution_count": 312,
   "metadata": {},
   "outputs": [
    {
     "output_type": "execute_result",
     "data": {
      "text/plain": [
       "2     2002-08-24 14:28\n",
       "23    2002-07-04 08:11\n",
       "32    2010-09-27 10:37\n",
       "52    2010-11-05 15:31\n",
       "80    2011-04-19 11:11\n",
       "Name: admission_dt, dtype: object"
      ]
     },
     "metadata": {},
     "execution_count": 312
    }
   ],
   "source": [
    "df_all_no_null['admission_dt'].head()"
   ]
  },
  {
   "cell_type": "code",
   "execution_count": 313,
   "metadata": {},
   "outputs": [],
   "source": [
    "df_all_no_null['admission_dt'] = pd.to_datetime(df_all_no_null['admission_dt'])\n",
    "df_all_no_null['discharge_dt'] = pd.to_datetime(df_all_no_null['discharge_dt'])"
   ]
  },
  {
   "cell_type": "code",
   "execution_count": 315,
   "metadata": {},
   "outputs": [
    {
     "output_type": "execute_result",
     "data": {
      "text/plain": [
       "2    2002-08-24 14:28:00\n",
       "23   2002-07-04 08:11:00\n",
       "32   2010-09-27 10:37:00\n",
       "52   2010-11-05 15:31:00\n",
       "80   2011-04-19 11:11:00\n",
       "Name: admission_dt, dtype: datetime64[ns]"
      ]
     },
     "metadata": {},
     "execution_count": 315
    }
   ],
   "source": [
    "df_all_no_null['admission_dt'].head()"
   ]
  },
  {
   "cell_type": "code",
   "execution_count": null,
   "metadata": {},
   "outputs": [],
   "source": [
    "df_all_no_null['length_of_stay'] = pd.Timedelta(df_all_no_null['discharge_dt'] - df_all_no_null['admission_dt']).hours()"
   ]
  },
  {
   "cell_type": "code",
   "execution_count": null,
   "metadata": {},
   "outputs": [],
   "source": [
    "sns.scatterplot(x=df_all_no_null['length_of_stay'], y=df_all_no_null['charlston_comorbidity_index'])"
   ]
  },
  {
   "cell_type": "code",
   "execution_count": null,
   "metadata": {},
   "outputs": [],
   "source": [
    "sns.scatterplot(data=df_all_no_null, x='length_of_stay', y=d'charlston_comorbidity_index', hue=\"ages\", style=\"age\")"
   ]
  }
 ]
}